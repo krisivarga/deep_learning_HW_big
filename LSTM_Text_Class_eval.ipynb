{
  "cells": [
    {
      "cell_type": "markdown",
      "metadata": {
        "id": "view-in-github",
        "colab_type": "text"
      },
      "source": [
        "<a href=\"https://colab.research.google.com/github/krisivarga/deep_learning_HW_big/blob/main/LSTM_Text_Class_eval.ipynb\" target=\"_parent\"><img src=\"https://colab.research.google.com/assets/colab-badge.svg\" alt=\"Open In Colab\"/></a>"
      ]
    },
    {
      "cell_type": "code",
      "execution_count": 2,
      "metadata": {
        "id": "d17b8c13"
      },
      "outputs": [],
      "source": [
        "#download file from web\n",
        "\n",
        "import requests, zipfile, io, os\n",
        "\n",
        "zip_file_url = \"http://groups.di.unipi.it/~gulli/newsspace200.xml.bz\"\n",
        "\n",
        "filename = zip_file_url.split(\"/\")[-1]\n",
        "with open(filename, \"wb\") as f:\n",
        "    r = requests.get(zip_file_url)\n",
        "    f.write(r.content)"
      ],
      "id": "d17b8c13"
    },
    {
      "cell_type": "code",
      "execution_count": 3,
      "metadata": {
        "colab": {
          "base_uri": "https://localhost:8080/"
        },
        "id": "4b2c4cfa",
        "outputId": "da03ecf8-bc83-4140-e850-a1855752bc14"
      },
      "outputs": [
        {
          "output_type": "stream",
          "name": "stdout",
          "text": [
            "Directory  data  already exists\n"
          ]
        }
      ],
      "source": [
        "#create data folder, decompress data\n",
        "\n",
        "import bz2,shutil\n",
        "\n",
        "dirName = 'data'\n",
        "try:\n",
        "    # Create target Directory\n",
        "    os.mkdir(dirName)\n",
        "    print(\"Directory \" , dirName ,  \" Created \") \n",
        "except FileExistsError:\n",
        "    print(\"Directory \" , dirName ,  \" already exists\")\n",
        "    \n",
        "    \n",
        "with bz2.BZ2File(\"newsspace200.xml.bz\") as fr, open(\"./data/input.xml\",\"wb\") as fw:\n",
        "    shutil.copyfileobj(fr,fw)"
      ],
      "id": "4b2c4cfa"
    },
    {
      "cell_type": "code",
      "execution_count": 4,
      "metadata": {
        "id": "142157c9"
      },
      "outputs": [],
      "source": [
        "import xml.etree.ElementTree as ET\n",
        "\n",
        "tree = ET.parse(\"./data/input.xml\")\n",
        "root = tree.getroot()\n",
        "\n",
        "titles = []\n",
        "categories = []\n",
        "descriptions = []\n",
        "sources = []\n",
        "\n",
        "\n",
        "for title in tree.findall('title'):\n",
        "    titles.append(title.text)\n",
        "    \n",
        "for category in tree.findall('category'):\n",
        "        categories.append(category.text)\n",
        "\n",
        "for description in tree.findall('description'):\n",
        "    descriptions.append(description.text)\n",
        "\n",
        "for source in tree.findall('source'):\n",
        "    sources.append(source.text)\n"
      ],
      "id": "142157c9"
    },
    {
      "cell_type": "code",
      "execution_count": 5,
      "metadata": {
        "id": "5c64721c"
      },
      "outputs": [],
      "source": [
        "import numpy as np"
      ],
      "id": "5c64721c"
    },
    {
      "cell_type": "code",
      "execution_count": 6,
      "metadata": {
        "id": "593363e4"
      },
      "outputs": [],
      "source": [
        "titles = np.array(titles).T\n",
        "categories = np.array(categories).T\n",
        "descriptions = np.array(descriptions).T\n",
        "sources = np.array(sources).T"
      ],
      "id": "593363e4"
    },
    {
      "cell_type": "code",
      "execution_count": 7,
      "metadata": {
        "id": "28313a56"
      },
      "outputs": [],
      "source": [
        "data = np.dstack((sources,titles,descriptions,categories)).reshape(len(titles),4)"
      ],
      "id": "28313a56"
    },
    {
      "cell_type": "code",
      "execution_count": 8,
      "metadata": {
        "id": "21e33b2f"
      },
      "outputs": [],
      "source": [
        "import pandas as pd\n",
        "\n",
        "df = pd.DataFrame(data)\n",
        "df.columns = ['source','title', 'desc', 'cat']"
      ],
      "id": "21e33b2f"
    },
    {
      "cell_type": "code",
      "execution_count": 9,
      "metadata": {
        "id": "8779b3dc"
      },
      "outputs": [],
      "source": [
        "#select number of categories\n",
        "num_cat = 5\n",
        "selected_cats = df['cat'].value_counts()[:num_cat].index.tolist()\n",
        "\n",
        "df_selected = df.loc[df['cat'].isin(selected_cats)]\n"
      ],
      "id": "8779b3dc"
    },
    {
      "cell_type": "code",
      "execution_count": 10,
      "metadata": {
        "id": "e7896c8a"
      },
      "outputs": [],
      "source": [
        "df_selected = df_selected.dropna()"
      ],
      "id": "e7896c8a"
    },
    {
      "cell_type": "code",
      "execution_count": 11,
      "metadata": {
        "colab": {
          "base_uri": "https://localhost:8080/"
        },
        "id": "seMABop5RPtq",
        "outputId": "6b3147ed-3814-463a-c448-c4a2843a0a9b"
      },
      "outputs": [
        {
          "output_type": "stream",
          "name": "stdout",
          "text": [
            "Requirement already satisfied: sentencepiece in /usr/local/lib/python3.7/dist-packages (0.1.96)\n",
            "Requirement already satisfied: transformers in /usr/local/lib/python3.7/dist-packages (4.13.0)\n",
            "Requirement already satisfied: pyyaml>=5.1 in /usr/local/lib/python3.7/dist-packages (from transformers) (6.0)\n",
            "Requirement already satisfied: sacremoses in /usr/local/lib/python3.7/dist-packages (from transformers) (0.0.46)\n",
            "Requirement already satisfied: huggingface-hub<1.0,>=0.1.0 in /usr/local/lib/python3.7/dist-packages (from transformers) (0.2.1)\n",
            "Requirement already satisfied: packaging>=20.0 in /usr/local/lib/python3.7/dist-packages (from transformers) (21.3)\n",
            "Requirement already satisfied: importlib-metadata in /usr/local/lib/python3.7/dist-packages (from transformers) (4.8.2)\n",
            "Requirement already satisfied: tokenizers<0.11,>=0.10.1 in /usr/local/lib/python3.7/dist-packages (from transformers) (0.10.3)\n",
            "Requirement already satisfied: regex!=2019.12.17 in /usr/local/lib/python3.7/dist-packages (from transformers) (2019.12.20)\n",
            "Requirement already satisfied: numpy>=1.17 in /usr/local/lib/python3.7/dist-packages (from transformers) (1.19.5)\n",
            "Requirement already satisfied: filelock in /usr/local/lib/python3.7/dist-packages (from transformers) (3.4.0)\n",
            "Requirement already satisfied: requests in /usr/local/lib/python3.7/dist-packages (from transformers) (2.23.0)\n",
            "Requirement already satisfied: tqdm>=4.27 in /usr/local/lib/python3.7/dist-packages (from transformers) (4.62.3)\n",
            "Requirement already satisfied: typing-extensions>=3.7.4.3 in /usr/local/lib/python3.7/dist-packages (from huggingface-hub<1.0,>=0.1.0->transformers) (3.10.0.2)\n",
            "Requirement already satisfied: pyparsing!=3.0.5,>=2.0.2 in /usr/local/lib/python3.7/dist-packages (from packaging>=20.0->transformers) (3.0.6)\n",
            "Requirement already satisfied: zipp>=0.5 in /usr/local/lib/python3.7/dist-packages (from importlib-metadata->transformers) (3.6.0)\n",
            "Requirement already satisfied: chardet<4,>=3.0.2 in /usr/local/lib/python3.7/dist-packages (from requests->transformers) (3.0.4)\n",
            "Requirement already satisfied: certifi>=2017.4.17 in /usr/local/lib/python3.7/dist-packages (from requests->transformers) (2021.10.8)\n",
            "Requirement already satisfied: idna<3,>=2.5 in /usr/local/lib/python3.7/dist-packages (from requests->transformers) (2.10)\n",
            "Requirement already satisfied: urllib3!=1.25.0,!=1.25.1,<1.26,>=1.21.1 in /usr/local/lib/python3.7/dist-packages (from requests->transformers) (1.24.3)\n",
            "Requirement already satisfied: six in /usr/local/lib/python3.7/dist-packages (from sacremoses->transformers) (1.15.0)\n",
            "Requirement already satisfied: joblib in /usr/local/lib/python3.7/dist-packages (from sacremoses->transformers) (1.1.0)\n",
            "Requirement already satisfied: click in /usr/local/lib/python3.7/dist-packages (from sacremoses->transformers) (7.1.2)\n"
          ]
        }
      ],
      "source": [
        "!pip install sentencepiece\n",
        "!pip install transformers\n",
        "from transformers import XLNetTokenizer\n",
        "from transformers import BertTokenizer\n",
        "import re\n",
        "\n",
        "regex = re.compile('^[a-zA-Z]{3,}$')\n",
        "\n",
        "xltokenizer = XLNetTokenizer.from_pretrained(\"xlnet-base-cased\")\n",
        "\n",
        "btokenizer = BertTokenizer.from_pretrained(\"bert-base-uncased\")\n",
        "\n"
      ],
      "id": "seMABop5RPtq"
    },
    {
      "cell_type": "code",
      "execution_count": 12,
      "metadata": {
        "id": "nktcet9mRYBu"
      },
      "outputs": [],
      "source": [
        "def tr(bt,reg,title,sz):\n",
        "  a = bt.tokenize(title + \" \" + sz)\n",
        "  r = []\n",
        "  for s in a:\n",
        "    if reg.match(s) is not None:     \n",
        "      r.append(s)      \n",
        "  return r\n",
        "\n",
        "df_selected['berttoken'] = df_selected.apply(lambda row: tr(btokenizer, regex, str(row['title']), str(row['desc'])), axis=1)\n"
      ],
      "id": "nktcet9mRYBu"
    },
    {
      "cell_type": "code",
      "execution_count": 13,
      "metadata": {
        "id": "cvY4_vHQa17S"
      },
      "outputs": [],
      "source": [
        "def bertenc(bt,title,sz):\n",
        "  text_to_encode = title + \" \" + sz\n",
        "  a = bt.encode_plus(\n",
        "            text_to_encode, \n",
        "            max_length= 64, \n",
        "            add_special_tokens=True,\n",
        "            return_token_type_ids=False, \n",
        "            padding=\"max_length\",\n",
        "            truncation = True,\n",
        "            return_attention_mask=False\n",
        "        )\n",
        "  ids = a['input_ids']  \n",
        "  return ids\n",
        "\n",
        "df_selected['bertencodeplus'] = df_selected.apply(lambda row: bertenc(btokenizer, str(row['title']), str(row['desc'])), axis=1)\n"
      ],
      "id": "cvY4_vHQa17S"
    },
    {
      "cell_type": "code",
      "execution_count": 14,
      "metadata": {
        "colab": {
          "base_uri": "https://localhost:8080/"
        },
        "id": "pfTBFcY1TyN4",
        "outputId": "a7fb7f7a-427f-462a-ebfc-69a2fa810d05"
      },
      "outputs": [
        {
          "output_type": "execute_result",
          "data": {
            "text/plain": [
              "0         None\n",
              "1         None\n",
              "2         None\n",
              "3         None\n",
              "4         None\n",
              "          ... \n",
              "496829    None\n",
              "496830    None\n",
              "496831    None\n",
              "496832    None\n",
              "496833    None\n",
              "Length: 324797, dtype: object"
            ]
          },
          "metadata": {},
          "execution_count": 14
        }
      ],
      "source": [
        "bertencidvoc_dict = {}\n",
        "bertvoc_dict = {}\n",
        "def dict_creater(arr):\n",
        "  for a in arr:\n",
        "    if a != 0:\n",
        "      if a in bertencidvoc_dict:\n",
        "        count = bertencidvoc_dict[a] + 1\n",
        "        bertencidvoc_dict.update({a:count})\n",
        "      else:\n",
        "        bertencidvoc_dict.update({a:1})\n",
        "  return\n",
        "\n",
        "def dict_creater2(arr):\n",
        "  for a in arr:\n",
        "    if a != 0:\n",
        "      if a in bertvoc_dict:\n",
        "        count = bertvoc_dict[a] + 1\n",
        "        bertvoc_dict.update({a:count})\n",
        "      else:\n",
        "        bertvoc_dict.update({a:1})\n",
        "  return\n",
        "\n",
        "df_selected.apply(lambda row: dict_creater(row['bertencodeplus']), axis=1)\n",
        "\n",
        "df_selected.apply(lambda row: dict_creater2(row['berttoken']), axis=1)\n"
      ],
      "id": "pfTBFcY1TyN4"
    },
    {
      "cell_type": "markdown",
      "metadata": {
        "id": "e-RIUfPT8sIf"
      },
      "source": [
        "We encoded the categories with numbers, so they're easier to work with."
      ],
      "id": "e-RIUfPT8sIf"
    },
    {
      "cell_type": "code",
      "execution_count": 15,
      "metadata": {
        "id": "blxtoSlen6de"
      },
      "outputs": [],
      "source": [
        "i = 0\n",
        "category_dictionary = {}\n",
        "cat_rev_dict= {}\n",
        "for s in selected_cats:\n",
        "  category_dictionary.update({i:s})\n",
        "  cat_rev_dict.update({s:i})\n",
        "  i = i + 1\n",
        "\n",
        "\n",
        "df_selected['cat_enc'] = df_selected.apply(lambda row: cat_rev_dict[str(row['cat'])] , axis=1)\n"
      ],
      "id": "blxtoSlen6de"
    },
    {
      "cell_type": "code",
      "execution_count": 16,
      "metadata": {
        "id": "4fc25c76"
      },
      "outputs": [],
      "source": [
        "# Since the goal of this exercise if to identify category based on headline and short description, \n",
        "# we choose to merge them, as the vectorizer functions can't process multiple columns\n",
        "\n",
        "#df_selected['joined'] = df_selected.apply(lambda row: \" \".join(row['berttoken']) , axis=1)\n",
        "X = np.array(df_selected[\"bertencodeplus\"].values.tolist())\n",
        "#X = df_selected['bertencodeplus'].to_numpy()\n",
        "y = df_selected['cat_enc'].to_numpy()"
      ],
      "id": "4fc25c76"
    },
    {
      "cell_type": "code",
      "execution_count": 17,
      "metadata": {
        "colab": {
          "base_uri": "https://localhost:8080/"
        },
        "id": "71830247",
        "outputId": "2406dfe3-a5fb-483d-a391-1a1a661d9c3d"
      },
      "outputs": [
        {
          "output_type": "stream",
          "name": "stdout",
          "text": [
            "Training Data Shape: (227357, 64)\n",
            "Testing Data Shape: (48720, 64)\n"
          ]
        }
      ],
      "source": [
        "from sklearn.model_selection import train_test_split\n",
        "\n",
        "# Split the data into 70-30 i.e. test size of 30% to check the accuracy of the training\n",
        "X_train, X_test, y_train, y_test = train_test_split(X, y, test_size=0.3, random_state=42, shuffle = True)\n",
        "\n",
        "X_test, X_valid, y_test, y_valid = train_test_split(X_test, y_test, test_size=0.5, random_state=42, shuffle = True)\n",
        "\n",
        "#Let's check the shape of the splitted data\n",
        "print(f\"Training Data Shape: {X_train.shape}\")\n",
        "print(f\"Testing Data Shape: {X_test.shape}\")"
      ],
      "id": "71830247"
    },
    {
      "cell_type": "code",
      "execution_count": 18,
      "metadata": {
        "id": "pKNICxAtuuMj"
      },
      "outputs": [],
      "source": [
        "import tensorflow\n",
        "from tensorflow import keras\n",
        "from tensorflow.keras.utils import to_categorical"
      ],
      "id": "pKNICxAtuuMj"
    },
    {
      "cell_type": "code",
      "execution_count": 19,
      "metadata": {
        "id": "oncufrW__c27"
      },
      "outputs": [],
      "source": [
        "Y_train = to_categorical(y_train, num_classes=5, dtype='float32')\n",
        "Y_test = to_categorical(y_test, num_classes=5, dtype='float32')\n",
        "Y_valid = to_categorical(y_valid, num_classes=5, dtype='float32')"
      ],
      "id": "oncufrW__c27"
    },
    {
      "cell_type": "code",
      "source": [
        "!wget --no-check-certificate 'https://docs.google.com/uc?export=download&id=1dIsf_-kNjWo6vRtm_DPsbebZpZRhEzzd' -O 'best_LSTM_CONV1D_model.h5'"
      ],
      "metadata": {
        "id": "YM7nG9y9THNN",
        "outputId": "2b161f06-6514-45d6-f9dc-5336372210d0",
        "colab": {
          "base_uri": "https://localhost:8080/"
        }
      },
      "id": "YM7nG9y9THNN",
      "execution_count": 20,
      "outputs": [
        {
          "output_type": "stream",
          "name": "stdout",
          "text": [
            "--2021-12-12 11:28:46--  https://docs.google.com/uc?export=download&id=1dIsf_-kNjWo6vRtm_DPsbebZpZRhEzzd\n",
            "Resolving docs.google.com (docs.google.com)... 142.251.8.113, 142.251.8.101, 142.251.8.102, ...\n",
            "Connecting to docs.google.com (docs.google.com)|142.251.8.113|:443... connected.\n",
            "HTTP request sent, awaiting response... 302 Moved Temporarily\n",
            "Location: https://doc-0k-68-docs.googleusercontent.com/docs/securesc/ha0ro937gcuc7l7deffksulhg5h7mbp1/6un5nsgdjcovevvidbudj9oei8lvjujd/1639308525000/16722052510491764536/*/1dIsf_-kNjWo6vRtm_DPsbebZpZRhEzzd?e=download [following]\n",
            "Warning: wildcards not supported in HTTP.\n",
            "--2021-12-12 11:28:48--  https://doc-0k-68-docs.googleusercontent.com/docs/securesc/ha0ro937gcuc7l7deffksulhg5h7mbp1/6un5nsgdjcovevvidbudj9oei8lvjujd/1639308525000/16722052510491764536/*/1dIsf_-kNjWo6vRtm_DPsbebZpZRhEzzd?e=download\n",
            "Resolving doc-0k-68-docs.googleusercontent.com (doc-0k-68-docs.googleusercontent.com)... 142.250.157.132, 2404:6800:4008:c13::84\n",
            "Connecting to doc-0k-68-docs.googleusercontent.com (doc-0k-68-docs.googleusercontent.com)|142.250.157.132|:443... connected.\n",
            "HTTP request sent, awaiting response... 200 OK\n",
            "Length: 32282112 (31M) [application/octet-stream]\n",
            "Saving to: ‘best_LSTM_CONV1D_model.h5’\n",
            "\n",
            "best_LSTM_CONV1D_mo 100%[===================>]  30.79M   170MB/s    in 0.2s    \n",
            "\n",
            "2021-12-12 11:28:48 (170 MB/s) - ‘best_LSTM_CONV1D_model.h5’ saved [32282112/32282112]\n",
            "\n"
          ]
        }
      ]
    },
    {
      "cell_type": "code",
      "source": [
        "best_model = keras.models.load_model(\"best_LSTM_CONV1D_model.h5\")"
      ],
      "metadata": {
        "id": "6enPqOow56O8",
        "colab": {
          "base_uri": "https://localhost:8080/"
        },
        "outputId": "8daa2633-48c5-4e2a-a783-deaf06d0d7b6"
      },
      "id": "6enPqOow56O8",
      "execution_count": 21,
      "outputs": [
        {
          "output_type": "stream",
          "name": "stdout",
          "text": [
            "WARNING:tensorflow:Error in loading the saved optimizer state. As a result, your model is starting with a freshly initialized optimizer.\n"
          ]
        }
      ]
    },
    {
      "cell_type": "code",
      "source": [
        "from keras.utils.vis_utils import plot_model"
      ],
      "metadata": {
        "id": "UtQbnpQeYpVd"
      },
      "id": "UtQbnpQeYpVd",
      "execution_count": 30,
      "outputs": []
    },
    {
      "cell_type": "code",
      "source": [
        "plot_model(best_model, show_shapes=True, show_layer_names=True)"
      ],
      "metadata": {
        "id": "AuWkqI8fYqOk",
        "outputId": "d55f616e-e4f4-4a2a-c97c-c0300796d5a2",
        "colab": {
          "base_uri": "https://localhost:8080/",
          "height": 865
        }
      },
      "id": "AuWkqI8fYqOk",
      "execution_count": 31,
      "outputs": [
        {
          "output_type": "execute_result",
          "data": {
            "image/png": "[encoded data removed]",
            "text/plain": [
              "<IPython.core.display.Image object>"
            ]
          },
          "metadata": {},
          "execution_count": 31
        }
      ]
    },
    {
      "cell_type": "code",
      "source": [
        "best_model.evaluate(X_test,Y_test)"
      ],
      "metadata": {
        "colab": {
          "base_uri": "https://localhost:8080/"
        },
        "id": "wtw15vLmFZpJ",
        "outputId": "ca022c3e-44bd-4936-e5ed-6effe2e3f65e"
      },
      "id": "wtw15vLmFZpJ",
      "execution_count": 32,
      "outputs": [
        {
          "output_type": "stream",
          "name": "stdout",
          "text": [
            "1523/1523 [==============================] - 14s 9ms/step - loss: 0.7742 - accuracy: 0.6713\n"
          ]
        },
        {
          "output_type": "execute_result",
          "data": {
            "text/plain": [
              "[0.7741839289665222, 0.6713054180145264]"
            ]
          },
          "metadata": {},
          "execution_count": 32
        }
      ]
    },
    {
      "cell_type": "code",
      "source": [
        "from sklearn.metrics import confusion_matrix\n",
        "import matplotlib.pyplot as plt\n",
        "import seaborn as sns\n",
        "from sklearn.metrics import classification_report"
      ],
      "metadata": {
        "id": "Kx8hTFSvFDej"
      },
      "id": "Kx8hTFSvFDej",
      "execution_count": 33,
      "outputs": []
    },
    {
      "cell_type": "code",
      "source": [
        "preds = best_model.predict(X_test)\n",
        "y_pred=np.argmax(preds,axis=1)"
      ],
      "metadata": {
        "id": "VM9q_4J8FMIk"
      },
      "id": "VM9q_4J8FMIk",
      "execution_count": 34,
      "outputs": []
    },
    {
      "cell_type": "code",
      "source": [
        "print(classification_report(y_test, y_pred))"
      ],
      "metadata": {
        "id": "8oWuwtzCHA2E",
        "outputId": "7b1d7a78-3c9a-4a5a-99f8-45283c5d87cb",
        "colab": {
          "base_uri": "https://localhost:8080/"
        }
      },
      "id": "8oWuwtzCHA2E",
      "execution_count": 25,
      "outputs": [
        {
          "output_type": "stream",
          "name": "stdout",
          "text": [
            "              precision    recall  f1-score   support\n",
            "\n",
            "           0       0.65      0.89      0.75     12259\n",
            "           1       0.54      0.49      0.52     10610\n",
            "           2       0.76      0.97      0.85      9277\n",
            "           3       0.72      0.92      0.81      8214\n",
            "           4       0.30      0.00      0.00      8360\n",
            "\n",
            "    accuracy                           0.67     48720\n",
            "   macro avg       0.59      0.65      0.59     48720\n",
            "weighted avg       0.60      0.67      0.60     48720\n",
            "\n"
          ]
        }
      ]
    },
    {
      "cell_type": "code",
      "source": [
        "conf_mat = confusion_matrix(y_test, y_pred)\n",
        "target_names = ['World','Entertainment','Sports','Business','Top Stories']"
      ],
      "metadata": {
        "id": "4XcvgMV0FEWQ"
      },
      "id": "4XcvgMV0FEWQ",
      "execution_count": 35,
      "outputs": []
    },
    {
      "cell_type": "code",
      "source": [
        "conf_mat_df = pd.DataFrame(conf_mat,\n",
        "                     index = target_names, \n",
        "                     columns = target_names)"
      ],
      "metadata": {
        "id": "WjuixrekF0Na"
      },
      "id": "WjuixrekF0Na",
      "execution_count": 36,
      "outputs": []
    },
    {
      "cell_type": "code",
      "source": [
        "conf_mat_df"
      ],
      "metadata": {
        "id": "sRL857FuKPzW",
        "outputId": "ac632537-46ff-424b-e38e-fea403bd2791",
        "colab": {
          "base_uri": "https://localhost:8080/",
          "height": 206
        }
      },
      "id": "sRL857FuKPzW",
      "execution_count": 37,
      "outputs": [
        {
          "output_type": "execute_result",
          "data": {
            "text/html": [
              "<div>\n",
              "<style scoped>\n",
              "    .dataframe tbody tr th:only-of-type {\n",
              "        vertical-align: middle;\n",
              "    }\n",
              "\n",
              "    .dataframe tbody tr th {\n",
              "        vertical-align: top;\n",
              "    }\n",
              "\n",
              "    .dataframe thead th {\n",
              "        text-align: right;\n",
              "    }\n",
              "</style>\n",
              "<table border=\"1\" class=\"dataframe\">\n",
              "  <thead>\n",
              "    <tr style=\"text-align: right;\">\n",
              "      <th></th>\n",
              "      <th>World</th>\n",
              "      <th>Entertainment</th>\n",
              "      <th>Sports</th>\n",
              "      <th>Business</th>\n",
              "      <th>Top Stories</th>\n",
              "    </tr>\n",
              "  </thead>\n",
              "  <tbody>\n",
              "    <tr>\n",
              "      <th>World</th>\n",
              "      <td>10885</td>\n",
              "      <td>683</td>\n",
              "      <td>188</td>\n",
              "      <td>501</td>\n",
              "      <td>2</td>\n",
              "    </tr>\n",
              "    <tr>\n",
              "      <th>Entertainment</th>\n",
              "      <td>2808</td>\n",
              "      <td>5241</td>\n",
              "      <td>1309</td>\n",
              "      <td>1249</td>\n",
              "      <td>3</td>\n",
              "    </tr>\n",
              "    <tr>\n",
              "      <th>Sports</th>\n",
              "      <td>103</td>\n",
              "      <td>102</td>\n",
              "      <td>9010</td>\n",
              "      <td>62</td>\n",
              "      <td>0</td>\n",
              "    </tr>\n",
              "    <tr>\n",
              "      <th>Business</th>\n",
              "      <td>236</td>\n",
              "      <td>336</td>\n",
              "      <td>73</td>\n",
              "      <td>7567</td>\n",
              "      <td>2</td>\n",
              "    </tr>\n",
              "    <tr>\n",
              "      <th>Top Stories</th>\n",
              "      <td>2622</td>\n",
              "      <td>3307</td>\n",
              "      <td>1337</td>\n",
              "      <td>1091</td>\n",
              "      <td>3</td>\n",
              "    </tr>\n",
              "  </tbody>\n",
              "</table>\n",
              "</div>"
            ],
            "text/plain": [
              "               World  Entertainment  Sports  Business  Top Stories\n",
              "World          10885            683     188       501            2\n",
              "Entertainment   2808           5241    1309      1249            3\n",
              "Sports           103            102    9010        62            0\n",
              "Business         236            336      73      7567            2\n",
              "Top Stories     2622           3307    1337      1091            3"
            ]
          },
          "metadata": {},
          "execution_count": 37
        }
      ]
    },
    {
      "cell_type": "code",
      "source": [
        "#Plotting the confusion matrix\n",
        "plt.figure(figsize=(8,6))\n",
        "sns.heatmap(conf_mat_df, annot=True)\n",
        "plt.title('Confusion Matrix')\n",
        "plt.ylabel('Actal Values')\n",
        "plt.xlabel('Predicted Values')\n",
        "plt.show()"
      ],
      "metadata": {
        "id": "LKdJAVs0Jl0J",
        "outputId": "dd398490-2c69-4fbc-c1d4-685516a6ae99",
        "colab": {
          "base_uri": "https://localhost:8080/",
          "height": 404
        }
      },
      "id": "LKdJAVs0Jl0J",
      "execution_count": 38,
      "outputs": [
        {
          "output_type": "display_data",
          "data": {
            "image/png": "[encoded data removed]",
            "text/plain": [
              "<Figure size 576x432 with 2 Axes>"
            ]
          },
          "metadata": {
            "needs_background": "light"
          }
        }
      ]
    }
  ],
  "metadata": {
    "accelerator": "GPU",
    "colab": {
      "collapsed_sections": [],
      "machine_shape": "hm",
      "name": "LSTM_Text_Class.ipynb",
      "provenance": [],
      "include_colab_link": true
    },
    "kernelspec": {
      "display_name": "Python 3",
      "language": "python",
      "name": "python3"
    },
    "language_info": {
      "codemirror_mode": {
        "name": "ipython",
        "version": 3
      },
      "file_extension": ".py",
      "mimetype": "text/x-python",
      "name": "python",
      "nbconvert_exporter": "python",
      "pygments_lexer": "ipython3",
      "version": "3.8.8"
    }
  },
  "nbformat": 4,
  "nbformat_minor": 5
}