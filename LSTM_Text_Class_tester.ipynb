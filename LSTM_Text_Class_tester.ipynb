{
  "cells": [
    {
      "cell_type": "markdown",
      "metadata": {
        "id": "view-in-github",
        "colab_type": "text"
      },
      "source": [
        "<a href=\"https://colab.research.google.com/github/krisivarga/deep_learning_HW_big/blob/main/LSTM_Text_Class_tester.ipynb\" target=\"_parent\"><img src=\"https://colab.research.google.com/assets/colab-badge.svg\" alt=\"Open In Colab\"/></a>"
      ]
    },
    {
      "cell_type": "code",
      "execution_count": 33,
      "metadata": {
        "id": "d17b8c13"
      },
      "outputs": [],
      "source": [
        "#download file from web\n",
        "\n",
        "import requests, zipfile, io, os\n",
        "\n",
        "zip_file_url = \"http://groups.di.unipi.it/~gulli/newsspace200.xml.bz\"\n",
        "\n",
        "filename = zip_file_url.split(\"/\")[-1]\n",
        "with open(filename, \"wb\") as f:\n",
        "    r = requests.get(zip_file_url)\n",
        "    f.write(r.content)"
      ],
      "id": "d17b8c13"
    },
    {
      "cell_type": "code",
      "execution_count": 34,
      "metadata": {
        "colab": {
          "base_uri": "https://localhost:8080/"
        },
        "id": "4b2c4cfa",
        "outputId": "5830c19d-dbd7-4a9b-9a79-6609feda5250"
      },
      "outputs": [
        {
          "output_type": "stream",
          "name": "stdout",
          "text": [
            "Directory  data  already exists\n"
          ]
        }
      ],
      "source": [
        "#create data folder, decompress data\n",
        "\n",
        "import bz2,shutil\n",
        "\n",
        "dirName = 'data'\n",
        "try:\n",
        "    # Create target Directory\n",
        "    os.mkdir(dirName)\n",
        "    print(\"Directory \" , dirName ,  \" Created \") \n",
        "except FileExistsError:\n",
        "    print(\"Directory \" , dirName ,  \" already exists\")\n",
        "    \n",
        "    \n",
        "with bz2.BZ2File(\"newsspace200.xml.bz\") as fr, open(\"./data/input.xml\",\"wb\") as fw:\n",
        "    shutil.copyfileobj(fr,fw)"
      ],
      "id": "4b2c4cfa"
    },
    {
      "cell_type": "code",
      "execution_count": 35,
      "metadata": {
        "id": "142157c9"
      },
      "outputs": [],
      "source": [
        "import xml.etree.ElementTree as ET\n",
        "\n",
        "tree = ET.parse(\"./data/input.xml\")\n",
        "root = tree.getroot()\n",
        "\n",
        "titles = []\n",
        "categories = []\n",
        "descriptions = []\n",
        "sources = []\n",
        "\n",
        "\n",
        "for title in tree.findall('title'):\n",
        "    titles.append(title.text)\n",
        "    \n",
        "for category in tree.findall('category'):\n",
        "        categories.append(category.text)\n",
        "\n",
        "for description in tree.findall('description'):\n",
        "    descriptions.append(description.text)\n",
        "\n",
        "for source in tree.findall('source'):\n",
        "    sources.append(source.text)\n"
      ],
      "id": "142157c9"
    },
    {
      "cell_type": "code",
      "execution_count": 36,
      "metadata": {
        "id": "5c64721c"
      },
      "outputs": [],
      "source": [
        "import numpy as np"
      ],
      "id": "5c64721c"
    },
    {
      "cell_type": "code",
      "execution_count": 37,
      "metadata": {
        "id": "593363e4"
      },
      "outputs": [],
      "source": [
        "titles = np.array(titles).T\n",
        "categories = np.array(categories).T\n",
        "descriptions = np.array(descriptions).T\n",
        "sources = np.array(sources).T"
      ],
      "id": "593363e4"
    },
    {
      "cell_type": "code",
      "execution_count": 38,
      "metadata": {
        "id": "28313a56"
      },
      "outputs": [],
      "source": [
        "data = np.dstack((sources,titles,descriptions,categories)).reshape(len(titles),4)"
      ],
      "id": "28313a56"
    },
    {
      "cell_type": "code",
      "execution_count": 39,
      "metadata": {
        "id": "21e33b2f"
      },
      "outputs": [],
      "source": [
        "import pandas as pd\n",
        "\n",
        "df = pd.DataFrame(data)\n",
        "df.columns = ['source','title', 'desc', 'cat']"
      ],
      "id": "21e33b2f"
    },
    {
      "cell_type": "code",
      "execution_count": 40,
      "metadata": {
        "id": "8779b3dc"
      },
      "outputs": [],
      "source": [
        "#set number of categories to be selected\n",
        "num_selected = 5\n",
        "selected_cats = df['cat'].value_counts()[:num_selected].index.tolist()\n",
        "df_selected = df.loc[df['cat'].isin(selected_cats)]"
      ],
      "id": "8779b3dc"
    },
    {
      "cell_type": "code",
      "execution_count": 41,
      "metadata": {
        "id": "e7896c8a"
      },
      "outputs": [],
      "source": [
        "df_selected = df_selected.dropna()"
      ],
      "id": "e7896c8a"
    },
    {
      "cell_type": "code",
      "execution_count": 42,
      "metadata": {
        "colab": {
          "base_uri": "https://localhost:8080/"
        },
        "id": "seMABop5RPtq",
        "outputId": "6d3f3422-4e6c-443f-c178-fe3cc84a2b5c"
      },
      "outputs": [
        {
          "output_type": "stream",
          "name": "stdout",
          "text": [
            "Requirement already satisfied: sentencepiece in /usr/local/lib/python3.7/dist-packages (0.1.96)\n",
            "Requirement already satisfied: transformers in /usr/local/lib/python3.7/dist-packages (4.13.0)\n",
            "Requirement already satisfied: regex!=2019.12.17 in /usr/local/lib/python3.7/dist-packages (from transformers) (2019.12.20)\n",
            "Requirement already satisfied: huggingface-hub<1.0,>=0.1.0 in /usr/local/lib/python3.7/dist-packages (from transformers) (0.2.1)\n",
            "Requirement already satisfied: filelock in /usr/local/lib/python3.7/dist-packages (from transformers) (3.4.0)\n",
            "Requirement already satisfied: pyyaml>=5.1 in /usr/local/lib/python3.7/dist-packages (from transformers) (6.0)\n",
            "Requirement already satisfied: sacremoses in /usr/local/lib/python3.7/dist-packages (from transformers) (0.0.46)\n",
            "Requirement already satisfied: packaging>=20.0 in /usr/local/lib/python3.7/dist-packages (from transformers) (21.3)\n",
            "Requirement already satisfied: tokenizers<0.11,>=0.10.1 in /usr/local/lib/python3.7/dist-packages (from transformers) (0.10.3)\n",
            "Requirement already satisfied: importlib-metadata in /usr/local/lib/python3.7/dist-packages (from transformers) (4.8.2)\n",
            "Requirement already satisfied: numpy>=1.17 in /usr/local/lib/python3.7/dist-packages (from transformers) (1.19.5)\n",
            "Requirement already satisfied: requests in /usr/local/lib/python3.7/dist-packages (from transformers) (2.23.0)\n",
            "Requirement already satisfied: tqdm>=4.27 in /usr/local/lib/python3.7/dist-packages (from transformers) (4.62.3)\n",
            "Requirement already satisfied: typing-extensions>=3.7.4.3 in /usr/local/lib/python3.7/dist-packages (from huggingface-hub<1.0,>=0.1.0->transformers) (3.10.0.2)\n",
            "Requirement already satisfied: pyparsing!=3.0.5,>=2.0.2 in /usr/local/lib/python3.7/dist-packages (from packaging>=20.0->transformers) (3.0.6)\n",
            "Requirement already satisfied: zipp>=0.5 in /usr/local/lib/python3.7/dist-packages (from importlib-metadata->transformers) (3.6.0)\n",
            "Requirement already satisfied: chardet<4,>=3.0.2 in /usr/local/lib/python3.7/dist-packages (from requests->transformers) (3.0.4)\n",
            "Requirement already satisfied: idna<3,>=2.5 in /usr/local/lib/python3.7/dist-packages (from requests->transformers) (2.10)\n",
            "Requirement already satisfied: certifi>=2017.4.17 in /usr/local/lib/python3.7/dist-packages (from requests->transformers) (2021.10.8)\n",
            "Requirement already satisfied: urllib3!=1.25.0,!=1.25.1,<1.26,>=1.21.1 in /usr/local/lib/python3.7/dist-packages (from requests->transformers) (1.24.3)\n",
            "Requirement already satisfied: click in /usr/local/lib/python3.7/dist-packages (from sacremoses->transformers) (7.1.2)\n",
            "Requirement already satisfied: six in /usr/local/lib/python3.7/dist-packages (from sacremoses->transformers) (1.15.0)\n",
            "Requirement already satisfied: joblib in /usr/local/lib/python3.7/dist-packages (from sacremoses->transformers) (1.1.0)\n"
          ]
        }
      ],
      "source": [
        "!pip install sentencepiece\n",
        "!pip install transformers\n",
        "from transformers import XLNetTokenizer\n",
        "from transformers import BertTokenizer\n",
        "import re\n",
        "\n",
        "regex = re.compile('^[a-zA-Z]{3,}$')\n",
        "\n",
        "xltokenizer = XLNetTokenizer.from_pretrained(\"xlnet-base-cased\")\n",
        "\n",
        "btokenizer = BertTokenizer.from_pretrained(\"bert-base-uncased\")\n",
        "\n"
      ],
      "id": "seMABop5RPtq"
    },
    {
      "cell_type": "code",
      "execution_count": 43,
      "metadata": {
        "id": "nktcet9mRYBu"
      },
      "outputs": [],
      "source": [
        "def tr(bt,reg,title,sz):\n",
        "  a = bt.tokenize(title + \" \" + sz)\n",
        "  r = []\n",
        "  for s in a:\n",
        "    if reg.match(s) is not None:     \n",
        "      r.append(s)      \n",
        "  return r\n",
        "\n",
        "df_selected['berttoken'] = df_selected.apply(lambda row: tr(btokenizer, regex, str(row['title']), str(row['desc'])), axis=1)"
      ],
      "id": "nktcet9mRYBu"
    },
    {
      "cell_type": "code",
      "execution_count": 44,
      "metadata": {
        "id": "cvY4_vHQa17S"
      },
      "outputs": [],
      "source": [
        "def bertenc(bt,title,sz):\n",
        "  text_to_encode = title + \" \" + sz\n",
        "  a = bt.encode_plus(\n",
        "            text_to_encode, \n",
        "            max_length= 64, \n",
        "            add_special_tokens=True,\n",
        "            return_token_type_ids=False, \n",
        "            padding=\"max_length\",\n",
        "            truncation = True,\n",
        "            return_attention_mask=False\n",
        "        )\n",
        "  ids = a['input_ids']  \n",
        "  return ids\n",
        "\n",
        "df_selected['bertencodeplus'] = df_selected.apply(lambda row: bertenc(btokenizer, str(row['title']), str(row['desc'])), axis=1)\n"
      ],
      "id": "cvY4_vHQa17S"
    },
    {
      "cell_type": "code",
      "execution_count": 45,
      "metadata": {
        "colab": {
          "base_uri": "https://localhost:8080/"
        },
        "id": "pfTBFcY1TyN4",
        "outputId": "c0b70f78-d2d1-4b85-b088-3bcb276f973e"
      },
      "outputs": [
        {
          "output_type": "execute_result",
          "data": {
            "text/plain": [
              "0         None\n",
              "1         None\n",
              "2         None\n",
              "3         None\n",
              "4         None\n",
              "          ... \n",
              "496829    None\n",
              "496830    None\n",
              "496831    None\n",
              "496832    None\n",
              "496833    None\n",
              "Length: 324797, dtype: object"
            ]
          },
          "metadata": {},
          "execution_count": 45
        }
      ],
      "source": [
        "bertencidvoc_dict = {}\n",
        "bertvoc_dict = {}\n",
        "def dict_creater(arr):\n",
        "  for a in arr:\n",
        "    if a != 0:\n",
        "      if a in bertencidvoc_dict:\n",
        "        count = bertencidvoc_dict[a] + 1\n",
        "        bertencidvoc_dict.update({a:count})\n",
        "      else:\n",
        "        bertencidvoc_dict.update({a:1})\n",
        "  return\n",
        "\n",
        "def dict_creater2(arr):\n",
        "  for a in arr:\n",
        "    if a != 0:\n",
        "      if a in bertvoc_dict:\n",
        "        count = bertvoc_dict[a] + 1\n",
        "        bertvoc_dict.update({a:count})\n",
        "      else:\n",
        "        bertvoc_dict.update({a:1})\n",
        "  return\n",
        "\n",
        "df_selected.apply(lambda row: dict_creater(row['bertencodeplus']), axis=1)\n",
        "\n",
        "df_selected.apply(lambda row: dict_creater2(row['berttoken']), axis=1)\n"
      ],
      "id": "pfTBFcY1TyN4"
    },
    {
      "cell_type": "code",
      "execution_count": 46,
      "metadata": {
        "id": "blxtoSlen6de"
      },
      "outputs": [],
      "source": [
        "i = 0\n",
        "category_dictionary = {}\n",
        "cat_rev_dict= {}\n",
        "for s in selected_cats:\n",
        "  category_dictionary.update({i:s})\n",
        "  cat_rev_dict.update({s:i})\n",
        "  i = i + 1\n",
        "\n",
        "\n",
        "df_selected['cat_enc'] = df_selected.apply(lambda row: cat_rev_dict[str(row['cat'])] , axis=1)\n"
      ],
      "id": "blxtoSlen6de"
    },
    {
      "cell_type": "code",
      "execution_count": 51,
      "metadata": {
        "id": "pKNICxAtuuMj"
      },
      "outputs": [],
      "source": [
        "import tensorflow\n",
        "from tensorflow import keras\n"
      ],
      "id": "pKNICxAtuuMj"
    },
    {
      "cell_type": "code",
      "source": [
        "!wget --no-check-certificate 'https://docs.google.com/uc?export=download&id=1dIsf_-kNjWo6vRtm_DPsbebZpZRhEzzd' -O 'best_LSTM_CONV1D_model.h5'"
      ],
      "metadata": {
        "id": "YtbPOwDsG1K0",
        "outputId": "200f9211-e167-4879-f910-7e089078fa5d",
        "colab": {
          "base_uri": "https://localhost:8080/"
        }
      },
      "id": "YtbPOwDsG1K0",
      "execution_count": 49,
      "outputs": [
        {
          "output_type": "stream",
          "name": "stdout",
          "text": [
            "--2021-12-12 10:51:18--  https://docs.google.com/uc?export=download&id=1dIsf_-kNjWo6vRtm_DPsbebZpZRhEzzd\n",
            "Resolving docs.google.com (docs.google.com)... 74.125.204.102, 74.125.204.139, 74.125.204.101, ...\n",
            "Connecting to docs.google.com (docs.google.com)|74.125.204.102|:443... connected.\n",
            "HTTP request sent, awaiting response... 302 Moved Temporarily\n",
            "Location: https://doc-0k-68-docs.googleusercontent.com/docs/securesc/ha0ro937gcuc7l7deffksulhg5h7mbp1/6r46madb5o94vqgglcf244mf90vaae1s/1639306275000/16722052510491764536/*/1dIsf_-kNjWo6vRtm_DPsbebZpZRhEzzd?e=download [following]\n",
            "Warning: wildcards not supported in HTTP.\n",
            "--2021-12-12 10:51:19--  https://doc-0k-68-docs.googleusercontent.com/docs/securesc/ha0ro937gcuc7l7deffksulhg5h7mbp1/6r46madb5o94vqgglcf244mf90vaae1s/1639306275000/16722052510491764536/*/1dIsf_-kNjWo6vRtm_DPsbebZpZRhEzzd?e=download\n",
            "Resolving doc-0k-68-docs.googleusercontent.com (doc-0k-68-docs.googleusercontent.com)... 142.250.157.132, 2404:6800:4008:c13::84\n",
            "Connecting to doc-0k-68-docs.googleusercontent.com (doc-0k-68-docs.googleusercontent.com)|142.250.157.132|:443... connected.\n",
            "HTTP request sent, awaiting response... 200 OK\n",
            "Length: 32282112 (31M) [application/octet-stream]\n",
            "Saving to: ‘best_LSTM_CONV1D_model.h5’\n",
            "\n",
            "best_LSTM_CONV1D_mo 100%[===================>]  30.79M   147MB/s    in 0.2s    \n",
            "\n",
            "2021-12-12 10:51:20 (147 MB/s) - ‘best_LSTM_CONV1D_model.h5’ saved [32282112/32282112]\n",
            "\n"
          ]
        }
      ]
    },
    {
      "cell_type": "code",
      "source": [
        "best_model = keras.models.load_model(\"best_LSTM_CONV1D_model.h5\")"
      ],
      "metadata": {
        "id": "6enPqOow56O8",
        "colab": {
          "base_uri": "https://localhost:8080/"
        },
        "outputId": "c99597b0-5c2a-4e2f-8809-68e93e0da361"
      },
      "id": "6enPqOow56O8",
      "execution_count": 50,
      "outputs": [
        {
          "output_type": "stream",
          "name": "stdout",
          "text": [
            "WARNING:tensorflow:Error in loading the saved optimizer state. As a result, your model is starting with a freshly initialized optimizer.\n"
          ]
        },
        {
          "output_type": "stream",
          "name": "stderr",
          "text": [
            "WARNING:tensorflow:Error in loading the saved optimizer state. As a result, your model is starting with a freshly initialized optimizer.\n"
          ]
        }
      ]
    },
    {
      "cell_type": "code",
      "source": [
        "best_model.summary()"
      ],
      "metadata": {
        "id": "_QAa4t1aM2CD",
        "outputId": "b100e9ab-1c09-40ab-cdcc-0c104e9a1a00",
        "colab": {
          "base_uri": "https://localhost:8080/"
        }
      },
      "id": "_QAa4t1aM2CD",
      "execution_count": 53,
      "outputs": [
        {
          "output_type": "stream",
          "name": "stdout",
          "text": [
            "Model: \"sequential\"\n",
            "_________________________________________________________________\n",
            " Layer (type)                Output Shape              Param #   \n",
            "=================================================================\n",
            " embedding (Embedding)       (None, 64, 128)           2602496   \n",
            "                                                                 \n",
            " conv1d (Conv1D)             (None, 64, 10)            20490     \n",
            "                                                                 \n",
            " dropout (Dropout)           (None, 64, 10)            0         \n",
            "                                                                 \n",
            " lstm (LSTM)                 (None, 112)               55104     \n",
            "                                                                 \n",
            " dropout_1 (Dropout)         (None, 112)               0         \n",
            "                                                                 \n",
            " dense (Dense)               (None, 64)                7232      \n",
            "                                                                 \n",
            " dense_1 (Dense)             (None, 5)                 325       \n",
            "                                                                 \n",
            "=================================================================\n",
            "Total params: 2,685,647\n",
            "Trainable params: 2,685,647\n",
            "Non-trainable params: 0\n",
            "_________________________________________________________________\n"
          ]
        }
      ]
    },
    {
      "cell_type": "code",
      "source": [
        "test_articles = df_selected.sample(10)"
      ],
      "metadata": {
        "id": "etKVc6Gy88Pf"
      },
      "id": "etKVc6Gy88Pf",
      "execution_count": 54,
      "outputs": []
    },
    {
      "cell_type": "markdown",
      "source": [
        ""
      ],
      "metadata": {
        "id": "2XMouRb1BrL3"
      },
      "id": "2XMouRb1BrL3"
    },
    {
      "cell_type": "code",
      "source": [
        "test_articles"
      ],
      "metadata": {
        "colab": {
          "base_uri": "https://localhost:8080/",
          "height": 537
        },
        "id": "3EGlcoSm9r8G",
        "outputId": "6bc744fe-55ce-42fa-a60c-6ca5bb34d5f3"
      },
      "id": "3EGlcoSm9r8G",
      "execution_count": 55,
      "outputs": [
        {
          "output_type": "execute_result",
          "data": {
            "text/html": [
              "<div>\n",
              "<style scoped>\n",
              "    .dataframe tbody tr th:only-of-type {\n",
              "        vertical-align: middle;\n",
              "    }\n",
              "\n",
              "    .dataframe tbody tr th {\n",
              "        vertical-align: top;\n",
              "    }\n",
              "\n",
              "    .dataframe thead th {\n",
              "        text-align: right;\n",
              "    }\n",
              "</style>\n",
              "<table border=\"1\" class=\"dataframe\">\n",
              "  <thead>\n",
              "    <tr style=\"text-align: right;\">\n",
              "      <th></th>\n",
              "      <th>source</th>\n",
              "      <th>title</th>\n",
              "      <th>desc</th>\n",
              "      <th>cat</th>\n",
              "      <th>berttoken</th>\n",
              "      <th>bertencodeplus</th>\n",
              "      <th>cat_enc</th>\n",
              "    </tr>\n",
              "  </thead>\n",
              "  <tbody>\n",
              "    <tr>\n",
              "      <th>427714</th>\n",
              "      <td>Scotland on Sunday</td>\n",
              "      <td>Aid Group Threatens Afghanistan Pullout</td>\n",
              "      <td>An aid group in Afghanistan said it was consid...</td>\n",
              "      <td>World</td>\n",
              "      <td>[aid, group, threatens, afghanistan, pull, aid...</td>\n",
              "      <td>[101, 4681, 2177, 17016, 7041, 4139, 5833, 201...</td>\n",
              "      <td>0</td>\n",
              "    </tr>\n",
              "    <tr>\n",
              "      <th>353401</th>\n",
              "      <td>Boston Globe</td>\n",
              "      <td>Advancing forces meet sporadic resistance</td>\n",
              "      <td>US and Iraqi forces, facing sporadic but stiff...</td>\n",
              "      <td>Entertainment</td>\n",
              "      <td>[advancing, forces, meet, sporadic, resistance...</td>\n",
              "      <td>[101, 10787, 2749, 3113, 24590, 5012, 2149, 19...</td>\n",
              "      <td>1</td>\n",
              "    </tr>\n",
              "    <tr>\n",
              "      <th>130786</th>\n",
              "      <td>Tucson Citizen</td>\n",
              "      <td>Han wins LPGA event in playoff over Kane</td>\n",
              "      <td>Han made a 4-foot birdie putt on the first pla...</td>\n",
              "      <td>Sports</td>\n",
              "      <td>[han, wins, event, playoff, over, kane, han, m...</td>\n",
              "      <td>[101, 7658, 5222, 6948, 3654, 2724, 1999, 7808...</td>\n",
              "      <td>2</td>\n",
              "    </tr>\n",
              "    <tr>\n",
              "      <th>416112</th>\n",
              "      <td>Telegraph.co.uk</td>\n",
              "      <td>Hartson #39;s goal gives Celtic hope in Europe</td>\n",
              "      <td>They may not have exorcised their demons but C...</td>\n",
              "      <td>Sports</td>\n",
              "      <td>[hart, goal, gives, celtic, hope, europe, they...</td>\n",
              "      <td>[101, 7530, 3385, 1001, 4464, 1025, 1055, 3125...</td>\n",
              "      <td>2</td>\n",
              "    </tr>\n",
              "    <tr>\n",
              "      <th>445740</th>\n",
              "      <td>New York Times Movies</td>\n",
              "      <td>Horror Minus Perspective in a Tale of the Holo...</td>\n",
              "      <td>This slow, earnest picture is a minor example ...</td>\n",
              "      <td>Entertainment</td>\n",
              "      <td>[horror, minus, perspective, tale, the, holoca...</td>\n",
              "      <td>[101, 5469, 15718, 7339, 1999, 1037, 6925, 199...</td>\n",
              "      <td>1</td>\n",
              "    </tr>\n",
              "    <tr>\n",
              "      <th>452919</th>\n",
              "      <td>MLB.com</td>\n",
              "      <td>Padres make offer to Wells</td>\n",
              "      <td>com. The Padres offered salary arbitration to ...</td>\n",
              "      <td>Sports</td>\n",
              "      <td>[padres, make, offer, wells, com, the, padres,...</td>\n",
              "      <td>[101, 21577, 2191, 3749, 2000, 7051, 4012, 101...</td>\n",
              "      <td>2</td>\n",
              "    </tr>\n",
              "    <tr>\n",
              "      <th>402279</th>\n",
              "      <td>Soccer Central</td>\n",
              "      <td>Reid striker not enough as Rovers stay rooted</td>\n",
              "      <td>Ireland International Steven Reid scored for B...</td>\n",
              "      <td>Sports</td>\n",
              "      <td>[reid, striker, not, enough, rovers, stay, roo...</td>\n",
              "      <td>[101, 9027, 11854, 2025, 2438, 2004, 9819, 299...</td>\n",
              "      <td>2</td>\n",
              "    </tr>\n",
              "    <tr>\n",
              "      <th>268608</th>\n",
              "      <td>Sports Network</td>\n",
              "      <td>(Sports Network) - The Boston Red Sox are atte...</td>\n",
              "      <td>from an 0-3 deficit to win a best-of-seven ser...</td>\n",
              "      <td>Sports</td>\n",
              "      <td>[sports, network, the, boston, red, sox, are, ...</td>\n",
              "      <td>[101, 1006, 2998, 2897, 1007, 1011, 1996, 3731...</td>\n",
              "      <td>2</td>\n",
              "    </tr>\n",
              "    <tr>\n",
              "      <th>320498</th>\n",
              "      <td>CBS Sportsline</td>\n",
              "      <td>Johansson edges Agassi in tiebreak to win Stoc...</td>\n",
              "      <td>STOCKHOLM, Sweden -- Thomas Johansson rallied ...</td>\n",
              "      <td>Sports</td>\n",
              "      <td>[johansson, edges, tie, win, stockholm, title,...</td>\n",
              "      <td>[101, 26447, 7926, 12943, 12054, 2072, 1999, 5...</td>\n",
              "      <td>2</td>\n",
              "    </tr>\n",
              "    <tr>\n",
              "      <th>478265</th>\n",
              "      <td>WNEP-TV</td>\n",
              "      <td>Obesity Drug Trials Get Good Results</td>\n",
              "      <td>Those patients also showed healthier cholester...</td>\n",
              "      <td>Top Stories</td>\n",
              "      <td>[obesity, drug, trials, get, good, results, th...</td>\n",
              "      <td>[101, 24552, 4319, 7012, 2131, 2204, 3463, 221...</td>\n",
              "      <td>4</td>\n",
              "    </tr>\n",
              "  </tbody>\n",
              "</table>\n",
              "</div>"
            ],
            "text/plain": [
              "                       source  ... cat_enc\n",
              "427714     Scotland on Sunday  ...       0\n",
              "353401           Boston Globe  ...       1\n",
              "130786         Tucson Citizen  ...       2\n",
              "416112        Telegraph.co.uk  ...       2\n",
              "445740  New York Times Movies  ...       1\n",
              "452919                MLB.com  ...       2\n",
              "402279         Soccer Central  ...       2\n",
              "268608         Sports Network  ...       2\n",
              "320498         CBS Sportsline  ...       2\n",
              "478265                WNEP-TV  ...       4\n",
              "\n",
              "[10 rows x 7 columns]"
            ]
          },
          "metadata": {},
          "execution_count": 55
        }
      ]
    },
    {
      "cell_type": "code",
      "source": [
        "test_articles_x = np.array(test_articles[\"bertencodeplus\"].values.tolist())"
      ],
      "metadata": {
        "id": "pZuQYn3A95e7"
      },
      "id": "pZuQYn3A95e7",
      "execution_count": 56,
      "outputs": []
    },
    {
      "cell_type": "code",
      "source": [
        "test_articles_y = test_articles['cat_enc'].to_numpy()"
      ],
      "metadata": {
        "id": "4Dm1WdIk-bf3"
      },
      "id": "4Dm1WdIk-bf3",
      "execution_count": 57,
      "outputs": []
    },
    {
      "cell_type": "code",
      "source": [
        "test_articles_preds = best_model.predict(test_articles_x)"
      ],
      "metadata": {
        "id": "wi6ari65-c7v"
      },
      "id": "wi6ari65-c7v",
      "execution_count": 58,
      "outputs": []
    },
    {
      "cell_type": "code",
      "source": [
        "classes_x=np.argmax(test_articles_preds,axis=1)"
      ],
      "metadata": {
        "id": "5dQ7FTyA-6Qs"
      },
      "id": "5dQ7FTyA-6Qs",
      "execution_count": 59,
      "outputs": []
    },
    {
      "cell_type": "code",
      "source": [
        "classes_x"
      ],
      "metadata": {
        "colab": {
          "base_uri": "https://localhost:8080/"
        },
        "id": "zJzlAydv_Aus",
        "outputId": "43e1bcf0-88d1-491f-bb43-3e1f19e6e4b9"
      },
      "id": "zJzlAydv_Aus",
      "execution_count": null,
      "outputs": [
        {
          "output_type": "execute_result",
          "data": {
            "text/plain": [
              "array([1, 2, 0, 2, 3, 3, 0, 0, 0, 1])"
            ]
          },
          "metadata": {},
          "execution_count": 57
        }
      ]
    },
    {
      "cell_type": "code",
      "source": [
        "category_dictionary"
      ],
      "metadata": {
        "colab": {
          "base_uri": "https://localhost:8080/"
        },
        "id": "aipvglNt_c61",
        "outputId": "184cc118-2e1e-4354-a52a-7cb265127eb0"
      },
      "id": "aipvglNt_c61",
      "execution_count": 60,
      "outputs": [
        {
          "output_type": "execute_result",
          "data": {
            "text/plain": [
              "{0: 'World', 1: 'Entertainment', 2: 'Sports', 3: 'Business', 4: 'Top Stories'}"
            ]
          },
          "metadata": {},
          "execution_count": 60
        }
      ]
    },
    {
      "cell_type": "code",
      "source": [
        "examples = test_articles[[\"title\", \"desc\", \"cat\"]]"
      ],
      "metadata": {
        "id": "rU2gwUzuAJmL"
      },
      "id": "rU2gwUzuAJmL",
      "execution_count": 61,
      "outputs": []
    },
    {
      "cell_type": "code",
      "source": [
        "examples[\"preds\"] = classes_x"
      ],
      "metadata": {
        "colab": {
          "base_uri": "https://localhost:8080/"
        },
        "id": "IIL0qEFwApjB",
        "outputId": "488b3ea6-32c1-4e42-944c-b67dbcac4d63"
      },
      "id": "IIL0qEFwApjB",
      "execution_count": 62,
      "outputs": [
        {
          "output_type": "stream",
          "name": "stderr",
          "text": [
            "/usr/local/lib/python3.7/dist-packages/ipykernel_launcher.py:1: SettingWithCopyWarning: \n",
            "A value is trying to be set on a copy of a slice from a DataFrame.\n",
            "Try using .loc[row_indexer,col_indexer] = value instead\n",
            "\n",
            "See the caveats in the documentation: https://pandas.pydata.org/pandas-docs/stable/user_guide/indexing.html#returning-a-view-versus-a-copy\n",
            "  \"\"\"Entry point for launching an IPython kernel.\n"
          ]
        }
      ]
    },
    {
      "cell_type": "code",
      "source": [
        "examples[\"preds\"] = examples[\"preds\"].apply(lambda x: category_dictionary.get(x))\n"
      ],
      "metadata": {
        "colab": {
          "base_uri": "https://localhost:8080/"
        },
        "id": "z0JYcfuNAyQW",
        "outputId": "0173485b-d3df-4cd1-b346-e50c215e22eb"
      },
      "id": "z0JYcfuNAyQW",
      "execution_count": 63,
      "outputs": [
        {
          "output_type": "stream",
          "name": "stderr",
          "text": [
            "/usr/local/lib/python3.7/dist-packages/ipykernel_launcher.py:1: SettingWithCopyWarning: \n",
            "A value is trying to be set on a copy of a slice from a DataFrame.\n",
            "Try using .loc[row_indexer,col_indexer] = value instead\n",
            "\n",
            "See the caveats in the documentation: https://pandas.pydata.org/pandas-docs/stable/user_guide/indexing.html#returning-a-view-versus-a-copy\n",
            "  \"\"\"Entry point for launching an IPython kernel.\n"
          ]
        }
      ]
    },
    {
      "cell_type": "code",
      "source": [
        "examples"
      ],
      "metadata": {
        "colab": {
          "base_uri": "https://localhost:8080/",
          "height": 363
        },
        "id": "6CPhyxm2BIzf",
        "outputId": "72522a6b-2782-4d8b-b5f9-b8a6f4ecc7c7"
      },
      "id": "6CPhyxm2BIzf",
      "execution_count": 64,
      "outputs": [
        {
          "output_type": "execute_result",
          "data": {
            "text/html": [
              "<div>\n",
              "<style scoped>\n",
              "    .dataframe tbody tr th:only-of-type {\n",
              "        vertical-align: middle;\n",
              "    }\n",
              "\n",
              "    .dataframe tbody tr th {\n",
              "        vertical-align: top;\n",
              "    }\n",
              "\n",
              "    .dataframe thead th {\n",
              "        text-align: right;\n",
              "    }\n",
              "</style>\n",
              "<table border=\"1\" class=\"dataframe\">\n",
              "  <thead>\n",
              "    <tr style=\"text-align: right;\">\n",
              "      <th></th>\n",
              "      <th>title</th>\n",
              "      <th>desc</th>\n",
              "      <th>cat</th>\n",
              "      <th>preds</th>\n",
              "    </tr>\n",
              "  </thead>\n",
              "  <tbody>\n",
              "    <tr>\n",
              "      <th>427714</th>\n",
              "      <td>Aid Group Threatens Afghanistan Pullout</td>\n",
              "      <td>An aid group in Afghanistan said it was consid...</td>\n",
              "      <td>World</td>\n",
              "      <td>World</td>\n",
              "    </tr>\n",
              "    <tr>\n",
              "      <th>353401</th>\n",
              "      <td>Advancing forces meet sporadic resistance</td>\n",
              "      <td>US and Iraqi forces, facing sporadic but stiff...</td>\n",
              "      <td>Entertainment</td>\n",
              "      <td>World</td>\n",
              "    </tr>\n",
              "    <tr>\n",
              "      <th>130786</th>\n",
              "      <td>Han wins LPGA event in playoff over Kane</td>\n",
              "      <td>Han made a 4-foot birdie putt on the first pla...</td>\n",
              "      <td>Sports</td>\n",
              "      <td>Sports</td>\n",
              "    </tr>\n",
              "    <tr>\n",
              "      <th>416112</th>\n",
              "      <td>Hartson #39;s goal gives Celtic hope in Europe</td>\n",
              "      <td>They may not have exorcised their demons but C...</td>\n",
              "      <td>Sports</td>\n",
              "      <td>Sports</td>\n",
              "    </tr>\n",
              "    <tr>\n",
              "      <th>445740</th>\n",
              "      <td>Horror Minus Perspective in a Tale of the Holo...</td>\n",
              "      <td>This slow, earnest picture is a minor example ...</td>\n",
              "      <td>Entertainment</td>\n",
              "      <td>Entertainment</td>\n",
              "    </tr>\n",
              "    <tr>\n",
              "      <th>452919</th>\n",
              "      <td>Padres make offer to Wells</td>\n",
              "      <td>com. The Padres offered salary arbitration to ...</td>\n",
              "      <td>Sports</td>\n",
              "      <td>Sports</td>\n",
              "    </tr>\n",
              "    <tr>\n",
              "      <th>402279</th>\n",
              "      <td>Reid striker not enough as Rovers stay rooted</td>\n",
              "      <td>Ireland International Steven Reid scored for B...</td>\n",
              "      <td>Sports</td>\n",
              "      <td>Sports</td>\n",
              "    </tr>\n",
              "    <tr>\n",
              "      <th>268608</th>\n",
              "      <td>(Sports Network) - The Boston Red Sox are atte...</td>\n",
              "      <td>from an 0-3 deficit to win a best-of-seven ser...</td>\n",
              "      <td>Sports</td>\n",
              "      <td>Sports</td>\n",
              "    </tr>\n",
              "    <tr>\n",
              "      <th>320498</th>\n",
              "      <td>Johansson edges Agassi in tiebreak to win Stoc...</td>\n",
              "      <td>STOCKHOLM, Sweden -- Thomas Johansson rallied ...</td>\n",
              "      <td>Sports</td>\n",
              "      <td>Sports</td>\n",
              "    </tr>\n",
              "    <tr>\n",
              "      <th>478265</th>\n",
              "      <td>Obesity Drug Trials Get Good Results</td>\n",
              "      <td>Those patients also showed healthier cholester...</td>\n",
              "      <td>Top Stories</td>\n",
              "      <td>Entertainment</td>\n",
              "    </tr>\n",
              "  </tbody>\n",
              "</table>\n",
              "</div>"
            ],
            "text/plain": [
              "                                                    title  ...          preds\n",
              "427714            Aid Group Threatens Afghanistan Pullout  ...          World\n",
              "353401          Advancing forces meet sporadic resistance  ...          World\n",
              "130786           Han wins LPGA event in playoff over Kane  ...         Sports\n",
              "416112     Hartson #39;s goal gives Celtic hope in Europe  ...         Sports\n",
              "445740  Horror Minus Perspective in a Tale of the Holo...  ...  Entertainment\n",
              "452919                         Padres make offer to Wells  ...         Sports\n",
              "402279      Reid striker not enough as Rovers stay rooted  ...         Sports\n",
              "268608  (Sports Network) - The Boston Red Sox are atte...  ...         Sports\n",
              "320498  Johansson edges Agassi in tiebreak to win Stoc...  ...         Sports\n",
              "478265               Obesity Drug Trials Get Good Results  ...  Entertainment\n",
              "\n",
              "[10 rows x 4 columns]"
            ]
          },
          "metadata": {},
          "execution_count": 64
        }
      ]
    },
    {
      "cell_type": "code",
      "source": [
        ""
      ],
      "metadata": {
        "id": "2oghUwVBBu3D"
      },
      "id": "2oghUwVBBu3D",
      "execution_count": null,
      "outputs": []
    }
  ],
  "metadata": {
    "accelerator": "GPU",
    "colab": {
      "collapsed_sections": [],
      "machine_shape": "hm",
      "name": "LSTM_Text_Class.ipynb",
      "provenance": [],
      "include_colab_link": true
    },
    "kernelspec": {
      "display_name": "Python 3",
      "language": "python",
      "name": "python3"
    },
    "language_info": {
      "codemirror_mode": {
        "name": "ipython",
        "version": 3
      },
      "file_extension": ".py",
      "mimetype": "text/x-python",
      "name": "python",
      "nbconvert_exporter": "python",
      "pygments_lexer": "ipython3",
      "version": "3.8.8"
    }
  },
  "nbformat": 4,
  "nbformat_minor": 5
}