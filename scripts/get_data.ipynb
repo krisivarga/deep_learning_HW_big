{
 "cells": [
  {
   "cell_type": "code",
   "execution_count": 1,
   "id": "d17b8c13",
   "metadata": {
    "id": "d17b8c13"
   },
   "outputs": [],
   "source": [
    "#download file from web\n",
    "\n",
    "import requests, zipfile, io, os\n",
    "\n",
    "zip_file_url = \"http://groups.di.unipi.it/~gulli/newsspace200.xml.bz\"\n",
    "\n",
    "filename = zip_file_url.split(\"/\")[-1]\n",
    "with open(filename, \"wb\") as f:\n",
    "    r = requests.get(zip_file_url)\n",
    "    f.write(r.content)"
   ]
  },
  {
   "cell_type": "code",
   "execution_count": 2,
   "id": "4b2c4cfa",
   "metadata": {
    "colab": {
     "base_uri": "https://localhost:8080/"
    },
    "id": "4b2c4cfa",
    "outputId": "60020cb1-38f0-496a-ca54-211fd0810fff"
   },
   "outputs": [
    {
     "name": "stdout",
     "output_type": "stream",
     "text": [
      "Directory  data  Created \n"
     ]
    }
   ],
   "source": [
    "#create data folder, decompress data\n",
    "\n",
    "import bz2,shutil\n",
    "\n",
    "dirName = 'data'\n",
    "try:\n",
    "    # Create target Directory\n",
    "    os.mkdir(dirName)\n",
    "    print(\"Directory \" , dirName ,  \" Created \") \n",
    "except FileExistsError:\n",
    "    print(\"Directory \" , dirName ,  \" already exists\")\n",
    "    \n",
    "    \n",
    "with bz2.BZ2File(\"newsspace200.xml.bz\") as fr, open(\"./data/input.xml\",\"wb\") as fw:\n",
    "    shutil.copyfileobj(fr,fw)"
   ]
  },
  {
   "cell_type": "code",
   "execution_count": 3,
   "id": "142157c9",
   "metadata": {
    "id": "142157c9"
   },
   "outputs": [],
   "source": [
    "import xml.etree.ElementTree as ET\n",
    "\n",
    "tree = ET.parse(\"./data/input.xml\")\n",
    "root = tree.getroot()\n",
    "\n",
    "titles = []\n",
    "categories = []\n",
    "descriptions = []\n",
    "\n",
    "\n",
    "for title in tree.findall('title'):\n",
    "    titles.append(title.text)\n",
    "    \n",
    "for category in tree.findall('category'):\n",
    "        categories.append(category.text)\n",
    "\n",
    "for description in tree.findall('description'):\n",
    "    descriptions.append(description.text)\n"
   ]
  },
  {
   "cell_type": "code",
   "execution_count": 4,
   "id": "5c64721c",
   "metadata": {
    "id": "5c64721c"
   },
   "outputs": [],
   "source": [
    "import numpy as np"
   ]
  },
  {
   "cell_type": "code",
   "execution_count": 5,
   "id": "593363e4",
   "metadata": {
    "id": "593363e4"
   },
   "outputs": [],
   "source": [
    "titles = np.array(titles).T\n",
    "categories = np.array(categories).T\n",
    "descriptions = np.array(descriptions).T"
   ]
  },
  {
   "cell_type": "code",
   "execution_count": 6,
   "id": "28313a56",
   "metadata": {
    "id": "28313a56"
   },
   "outputs": [],
   "source": [
    "data = np.dstack((titles,descriptions,categories)).reshape(len(titles),3)"
   ]
  },
  {
   "cell_type": "code",
   "execution_count": 7,
   "id": "3bb2a4a8",
   "metadata": {
    "colab": {
     "base_uri": "https://localhost:8080/"
    },
    "id": "3bb2a4a8",
    "outputId": "d103563a-ad17-4c9d-e49f-de5417c46e82"
   },
   "outputs": [
    {
     "data": {
      "text/plain": [
       "(496835, 3)"
      ]
     },
     "execution_count": 7,
     "metadata": {},
     "output_type": "execute_result"
    }
   ],
   "source": [
    "data.shape"
   ]
  },
  {
   "cell_type": "code",
   "execution_count": 10,
   "id": "21e33b2f",
   "metadata": {
    "id": "21e33b2f"
   },
   "outputs": [],
   "source": [
    "import pandas as pd\n",
    "\n",
    "df = pd.DataFrame(data)\n",
    "df.columns = ['title', 'desc', 'cat']"
   ]
  },
  {
   "cell_type": "code",
   "execution_count": 11,
   "id": "1b4d9a31",
   "metadata": {
    "colab": {
     "base_uri": "https://localhost:8080/"
    },
    "id": "1b4d9a31",
    "outputId": "2879b72b-2965-412d-f5a5-6a28e33e1a09"
   },
   "outputs": [
    {
     "name": "stdout",
     "output_type": "stream",
     "text": [
      "Total unique categories are: 17\n",
      "Count of occurance of each category:\n"
     ]
    },
    {
     "data": {
      "text/plain": [
       "World                                                                                                                                                                                       81456\n",
       "Entertainment                                                                                                                                                                               70892\n",
       "Sports                                                                                                                                                                                      62163\n",
       "Business                                                                                                                                                                                    56656\n",
       "Top Stories                                                                                                                                                                                 56045\n",
       "Sci/Tech                                                                                                                                                                                    41194\n",
       "Top News                                                                                                                                                                                    31917\n",
       "Europe                                                                                                                                                                                      30905\n",
       "Health                                                                                                                                                                                      19915\n",
       "Italia                                                                                                                                                                                      13814\n",
       "U.S.                                                                                                                                                                                        13770\n",
       "Software and Developement                                                                                                                                                                    2739\n",
       "Toons                                                                                                                                                                                        2150\n",
       "Music Feeds                                                                                                                                                                                  1207\n",
       "5                                                                                                                                                                                             106\n",
       "The recent onslaught of hurricanes has prompted some media outlets to mention  quot;global warming quot; as a possible cause, but a team of climate researchers set the record straight.        1\n",
       "ProEnglish, a national organization that wants to make English the official language of US government operations, is suing the Department of Health and Human Services over a                   1\n",
       "Name: cat, dtype: int64"
      ]
     },
     "execution_count": 11,
     "metadata": {},
     "output_type": "execute_result"
    }
   ],
   "source": [
    "print(f\"Total unique categories are: {len(df['cat'].value_counts())}\")\n",
    "print(f\"Count of occurance of each category:\")\n",
    "df['cat'].value_counts()"
   ]
  },
  {
   "cell_type": "code",
   "execution_count": 12,
   "id": "8779b3dc",
   "metadata": {
    "colab": {
     "base_uri": "https://localhost:8080/",
     "height": 419
    },
    "id": "8779b3dc",
    "outputId": "0aee4b52-500a-4a9a-d81e-74e22415339a"
   },
   "outputs": [
    {
     "data": {
      "text/html": [
       "<div>\n",
       "<style scoped>\n",
       "    .dataframe tbody tr th:only-of-type {\n",
       "        vertical-align: middle;\n",
       "    }\n",
       "\n",
       "    .dataframe tbody tr th {\n",
       "        vertical-align: top;\n",
       "    }\n",
       "\n",
       "    .dataframe thead th {\n",
       "        text-align: right;\n",
       "    }\n",
       "</style>\n",
       "<table border=\"1\" class=\"dataframe\">\n",
       "  <thead>\n",
       "    <tr style=\"text-align: right;\">\n",
       "      <th></th>\n",
       "      <th>title</th>\n",
       "      <th>desc</th>\n",
       "      <th>cat</th>\n",
       "    </tr>\n",
       "  </thead>\n",
       "  <tbody>\n",
       "    <tr>\n",
       "      <th>0</th>\n",
       "      <td>Wall St. Pullback Reflects Tech Blowout (Reuters)</td>\n",
       "      <td>Reuters - Wall Street's long-playing drama,\\\"W...</td>\n",
       "      <td>Business</td>\n",
       "    </tr>\n",
       "    <tr>\n",
       "      <th>1</th>\n",
       "      <td>Wall St. Bears Claw Back Into the Black (Reuters)</td>\n",
       "      <td>Reuters - Short-sellers, Wall Street's dwindli...</td>\n",
       "      <td>Business</td>\n",
       "    </tr>\n",
       "    <tr>\n",
       "      <th>2</th>\n",
       "      <td>Carlyle Looks Toward Commercial Aerospace (Reu...</td>\n",
       "      <td>Reuters - Private investment firm Carlyle Grou...</td>\n",
       "      <td>Business</td>\n",
       "    </tr>\n",
       "    <tr>\n",
       "      <th>3</th>\n",
       "      <td>Oil and Economy Cloud Stocks' Outlook (Reuters)</td>\n",
       "      <td>Reuters - Soaring crude prices plus worries\\ab...</td>\n",
       "      <td>Business</td>\n",
       "    </tr>\n",
       "    <tr>\n",
       "      <th>4</th>\n",
       "      <td>Iraq Halts Oil Exports from Main Southern Pipe...</td>\n",
       "      <td>Reuters - Authorities have halted oil export\\f...</td>\n",
       "      <td>Business</td>\n",
       "    </tr>\n",
       "    <tr>\n",
       "      <th>...</th>\n",
       "      <td>...</td>\n",
       "      <td>...</td>\n",
       "      <td>...</td>\n",
       "    </tr>\n",
       "    <tr>\n",
       "      <th>496829</th>\n",
       "      <td>High on priority list: Home improvement</td>\n",
       "      <td>Doc Rivers knows any postseason plans hinge on...</td>\n",
       "      <td>Sports</td>\n",
       "    </tr>\n",
       "    <tr>\n",
       "      <th>496830</th>\n",
       "      <td>Compromise seals climate meeting</td>\n",
       "      <td>A climate conference overcomes last-minute obj...</td>\n",
       "      <td>World</td>\n",
       "    </tr>\n",
       "    <tr>\n",
       "      <th>496831</th>\n",
       "      <td>Eisley enjoying his point of view</td>\n",
       "      <td>Howard Eisley has fond memories of Boston. He ...</td>\n",
       "      <td>Sports</td>\n",
       "    </tr>\n",
       "    <tr>\n",
       "      <th>496832</th>\n",
       "      <td>Iraqi judges quiz 'Chemical Ali'</td>\n",
       "      <td>Ali Hassan al-Majid - widely known as Chemical...</td>\n",
       "      <td>World</td>\n",
       "    </tr>\n",
       "    <tr>\n",
       "      <th>496833</th>\n",
       "      <td>Nets get Carter from Raptors</td>\n",
       "      <td>INDIANAPOLIS -- All-Star Vince Carter was trad...</td>\n",
       "      <td>Sports</td>\n",
       "    </tr>\n",
       "  </tbody>\n",
       "</table>\n",
       "<p>327212 rows × 3 columns</p>\n",
       "</div>"
      ],
      "text/plain": [
       "                                                    title  ...       cat\n",
       "0       Wall St. Pullback Reflects Tech Blowout (Reuters)  ...  Business\n",
       "1       Wall St. Bears Claw Back Into the Black (Reuters)  ...  Business\n",
       "2       Carlyle Looks Toward Commercial Aerospace (Reu...  ...  Business\n",
       "3         Oil and Economy Cloud Stocks' Outlook (Reuters)  ...  Business\n",
       "4       Iraq Halts Oil Exports from Main Southern Pipe...  ...  Business\n",
       "...                                                   ...  ...       ...\n",
       "496829            High on priority list: Home improvement  ...    Sports\n",
       "496830                   Compromise seals climate meeting  ...     World\n",
       "496831                  Eisley enjoying his point of view  ...    Sports\n",
       "496832                   Iraqi judges quiz 'Chemical Ali'  ...     World\n",
       "496833                       Nets get Carter from Raptors  ...    Sports\n",
       "\n",
       "[327212 rows x 3 columns]"
      ]
     },
     "execution_count": 12,
     "metadata": {},
     "output_type": "execute_result"
    }
   ],
   "source": [
    "selected_cats= ['World','Entertainment','Sports','Business','Top Stories']\n",
    "\n",
    "df_selected = df.loc[df['cat'].isin(selected_cats)]\n",
    "\n",
    "df_selected"
   ]
  },
  {
   "cell_type": "code",
   "execution_count": 13,
   "id": "ca0f1346",
   "metadata": {
    "colab": {
     "base_uri": "https://localhost:8080/"
    },
    "id": "ca0f1346",
    "outputId": "fb96cfaa-bc75-4288-d884-9fdb89e9473c"
   },
   "outputs": [
    {
     "name": "stdout",
     "output_type": "stream",
     "text": [
      "Total unique categories are: 5\n",
      "Count of occurance of each category:\n"
     ]
    },
    {
     "data": {
      "text/plain": [
       "World            81456\n",
       "Entertainment    70892\n",
       "Sports           62163\n",
       "Business         56656\n",
       "Top Stories      56045\n",
       "Name: cat, dtype: int64"
      ]
     },
     "execution_count": 13,
     "metadata": {},
     "output_type": "execute_result"
    }
   ],
   "source": [
    "print(f\"Total unique categories are: {len(df_selected['cat'].value_counts())}\")\n",
    "print(f\"Count of occurance of each category:\")\n",
    "df_selected['cat'].value_counts()"
   ]
  },
  {
   "cell_type": "code",
   "execution_count": 14,
   "id": "6410012a",
   "metadata": {
    "colab": {
     "base_uri": "https://localhost:8080/"
    },
    "id": "6410012a",
    "outputId": "5f5146b1-0b1f-48ea-ec33-4a6bb79dcc20"
   },
   "outputs": [
    {
     "data": {
      "text/plain": [
       "title       0\n",
       "desc     2415\n",
       "cat         0\n",
       "dtype: int64"
      ]
     },
     "execution_count": 14,
     "metadata": {},
     "output_type": "execute_result"
    }
   ],
   "source": [
    "df_selected.isnull().sum()"
   ]
  },
  {
   "cell_type": "code",
   "execution_count": 15,
   "id": "e7896c8a",
   "metadata": {
    "id": "e7896c8a"
   },
   "outputs": [],
   "source": [
    "df_selected = df_selected.dropna()"
   ]
  },
  {
   "cell_type": "code",
   "execution_count": 16,
   "id": "2139c2f4",
   "metadata": {
    "colab": {
     "base_uri": "https://localhost:8080/"
    },
    "id": "2139c2f4",
    "outputId": "9c5184e3-0ff8-4c87-d9fe-2bcb2daaac64"
   },
   "outputs": [
    {
     "data": {
      "text/plain": [
       "title    0\n",
       "desc     0\n",
       "cat      0\n",
       "dtype: int64"
      ]
     },
     "execution_count": 16,
     "metadata": {},
     "output_type": "execute_result"
    }
   ],
   "source": [
    "df_selected.isnull().sum()"
   ]
  },
  {
   "cell_type": "code",
   "execution_count": 17,
   "id": "ef5b41e9",
   "metadata": {
    "colab": {
     "base_uri": "https://localhost:8080/"
    },
    "id": "ef5b41e9",
    "outputId": "35f63684-09b9-4dac-dcb5-6e8e4f3b81fc"
   },
   "outputs": [
    {
     "name": "stdout",
     "output_type": "stream",
     "text": [
      "0 spaces in index:  []\n"
     ]
    }
   ],
   "source": [
    "# Check of spaces in column headline - using enumerate\n",
    "spaces = []\n",
    "for i, x in enumerate(df_selected['title']):\n",
    "    if type(x) == str:\n",
    "        if x.isspace():\n",
    "            spaces.append(i)\n",
    "        \n",
    "print(len(spaces), 'spaces in index: ', spaces)"
   ]
  },
  {
   "cell_type": "code",
   "execution_count": 18,
   "id": "19890e6c",
   "metadata": {
    "colab": {
     "base_uri": "https://localhost:8080/"
    },
    "id": "19890e6c",
    "outputId": "fff36019-70a7-42c9-c787-2be5982de82b"
   },
   "outputs": [
    {
     "name": "stdout",
     "output_type": "stream",
     "text": [
      "0 blanks:  []\n"
     ]
    }
   ],
   "source": [
    "# Check of spaces in column short desc - using itertuples\n",
    "blanks = []  # start with an empty list\n",
    "\n",
    "for i,tit,desc,cat in df_selected.itertuples():  # iterate over the DataFrame\n",
    "    if type(desc)==str:            # avoid NaN values\n",
    "        if desc.isspace():         # test 'review' for whitespace\n",
    "            blanks.append(i)     # add matching index numbers to the list\n",
    "        \n",
    "print(len(blanks), 'blanks: ', blanks)"
   ]
  },
  {
   "cell_type": "code",
   "execution_count": 19,
   "id": "4fc25c76",
   "metadata": {
    "id": "4fc25c76"
   },
   "outputs": [],
   "source": [
    "# Since the goal of this exercise if to identify category based on headline and short description, \n",
    "# we choose to merge them, as the vectorizer functions can't process multiple columns\n",
    "X = df_selected['title']+df_selected['desc']\n",
    "y = df_selected['cat']"
   ]
  },
  {
   "cell_type": "code",
   "execution_count": 20,
   "id": "f2021b25",
   "metadata": {
    "colab": {
     "base_uri": "https://localhost:8080/"
    },
    "id": "f2021b25",
    "outputId": "c057b925-8766-4350-e179-7358aad34576"
   },
   "outputs": [
    {
     "data": {
      "text/plain": [
       "count                                                324797\n",
       "unique                                               221234\n",
       "top       ADV: Try Currency Trading Risk-Free 30 Days24-...\n",
       "freq                                                     60\n",
       "dtype: object"
      ]
     },
     "execution_count": 20,
     "metadata": {},
     "output_type": "execute_result"
    }
   ],
   "source": [
    "X.describe()"
   ]
  },
  {
   "cell_type": "code",
   "execution_count": 21,
   "id": "71830247",
   "metadata": {
    "colab": {
     "base_uri": "https://localhost:8080/"
    },
    "id": "71830247",
    "outputId": "5f5c718a-f758-4190-be36-1cc7ba50b6e8"
   },
   "outputs": [
    {
     "name": "stdout",
     "output_type": "stream",
     "text": [
      "Training Data Shape: (227357,)\n",
      "Testing Data Shape: (97440,)\n"
     ]
    }
   ],
   "source": [
    "from sklearn.model_selection import train_test_split\n",
    "\n",
    "# Split the data into 70-30 i.e. test size of 30% to check the accuracy of the training\n",
    "X_train, X_test, y_train, y_test = train_test_split(X, y, test_size=0.3, random_state=42, shuffle = True)\n",
    "\n",
    "#Let's check the shape of the splitted data\n",
    "print(f\"Training Data Shape: {X_train.shape}\")\n",
    "print(f\"Testing Data Shape: {X_test.shape}\")"
   ]
  },
  {
   "cell_type": "code",
   "execution_count": 22,
   "id": "458e0049",
   "metadata": {
    "colab": {
     "base_uri": "https://localhost:8080/"
    },
    "id": "458e0049",
    "outputId": "0fb94658-6d8e-461c-ad8d-a34130b7c1b6"
   },
   "outputs": [
    {
     "data": {
      "text/plain": [
       "(227357, 160531)"
      ]
     },
     "execution_count": 22,
     "metadata": {},
     "output_type": "execute_result"
    }
   ],
   "source": [
    "from sklearn.feature_extraction.text import CountVectorizer\n",
    "# Let's first try with Count Vectorizer from scikit learn\n",
    "cv = CountVectorizer()\n",
    "\n",
    "X_train_cv = cv.fit_transform(X_train)\n",
    "X_train_cv.shape"
   ]
  },
  {
   "cell_type": "markdown",
   "id": "weR8Ea1BhQf3",
   "metadata": {
    "id": "weR8Ea1BhQf3"
   },
   "source": [
    "Doing a test training with a non-deep learning model, as a test"
   ]
  },
  {
   "cell_type": "code",
   "execution_count": 23,
   "id": "a0839904",
   "metadata": {
    "colab": {
     "base_uri": "https://localhost:8080/"
    },
    "id": "a0839904",
    "outputId": "49b53b71-d48b-44c3-d4cd-07b8763b389b"
   },
   "outputs": [
    {
     "name": "stderr",
     "output_type": "stream",
     "text": [
      "/usr/local/lib/python3.7/dist-packages/sklearn/svm/_base.py:947: ConvergenceWarning: Liblinear failed to converge, increase the number of iterations.\n",
      "  \"the number of iterations.\", ConvergenceWarning)\n"
     ]
    },
    {
     "data": {
      "text/plain": [
       "LinearSVC(C=1.0, class_weight=None, dual=True, fit_intercept=True,\n",
       "          intercept_scaling=1, loss='squared_hinge', max_iter=1000,\n",
       "          multi_class='ovr', penalty='l2', random_state=None, tol=0.0001,\n",
       "          verbose=0)"
      ]
     },
     "execution_count": 23,
     "metadata": {},
     "output_type": "execute_result"
    }
   ],
   "source": [
    "from sklearn.svm import LinearSVC\n",
    "clf = LinearSVC()\n",
    "clf.fit(X_train_cv,y_train)"
   ]
  },
  {
   "cell_type": "code",
   "execution_count": 24,
   "id": "e32481c7",
   "metadata": {
    "colab": {
     "base_uri": "https://localhost:8080/"
    },
    "id": "e32481c7",
    "outputId": "928dcdbc-d313-4df5-9be8-741a96494ac6"
   },
   "outputs": [
    {
     "name": "stdout",
     "output_type": "stream",
     "text": [
      "470005    At Least 13 Killed in Philippines BlastPolice ...\n",
      "268333    Wine sparkles in dull bourseSHARES in Australi...\n",
      "dtype: object\n"
     ]
    }
   ],
   "source": [
    "# Let's test it for the first 2 articles in the Test dataset\n",
    "X_test1 = X_test[0:2]\n",
    "print(X_test1)"
   ]
  },
  {
   "cell_type": "code",
   "execution_count": 25,
   "id": "3f0ac8ff",
   "metadata": {
    "colab": {
     "base_uri": "https://localhost:8080/"
    },
    "id": "3f0ac8ff",
    "outputId": "4f48ca35-ee00-4317-a1c8-53615ba36905"
   },
   "outputs": [
    {
     "data": {
      "text/plain": [
       "array(['Entertainment', 'Business'], dtype=object)"
      ]
     },
     "execution_count": 25,
     "metadata": {},
     "output_type": "execute_result"
    }
   ],
   "source": [
    "X_test1_cv = cv.transform(X_test1)\n",
    "clf.predict(X_test1_cv)"
   ]
  },
  {
   "cell_type": "code",
   "execution_count": 26,
   "id": "fecccb49",
   "metadata": {
    "id": "fecccb49"
   },
   "outputs": [],
   "source": [
    "# Transform the test data before predicting\n",
    "X_test_cv = cv.transform(X_test)"
   ]
  },
  {
   "cell_type": "code",
   "execution_count": 27,
   "id": "63cec094",
   "metadata": {
    "id": "63cec094"
   },
   "outputs": [],
   "source": [
    "# Form a prediction set\n",
    "predictions = clf.predict(X_test_cv)"
   ]
  },
  {
   "cell_type": "code",
   "execution_count": 30,
   "id": "9fc463ed",
   "metadata": {
    "colab": {
     "base_uri": "https://localhost:8080/"
    },
    "id": "9fc463ed",
    "outputId": "5a049939-d487-4959-ce2c-9c8f129e852d"
   },
   "outputs": [
    {
     "name": "stdout",
     "output_type": "stream",
     "text": [
      "[[12922  1407   113  1178   827]\n",
      " [ 1661  5585  1838  8191  3852]\n",
      " [  137  1398 15316  1321   372]\n",
      " [ 1465  8344  1769  1679  3570]\n",
      " [  849  2891   479  2820 17456]]\n",
      "               precision    recall  f1-score   support\n",
      "\n",
      "     Business       0.76      0.79      0.77     16447\n",
      "Entertainment       0.28      0.26      0.27     21127\n",
      "       Sports       0.78      0.83      0.80     18544\n",
      "  Top Stories       0.11      0.10      0.10     16827\n",
      "        World       0.67      0.71      0.69     24495\n",
      "\n",
      "     accuracy                           0.54     97440\n",
      "    macro avg       0.52      0.54      0.53     97440\n",
      " weighted avg       0.53      0.54      0.53     97440\n",
      "\n",
      "0.5434934318555008\n"
     ]
    }
   ],
   "source": [
    "import sklearn.metrics as metrics\n",
    "# Report the confusion matrix\n",
    "print(metrics.confusion_matrix(y_test,predictions))\n",
    "# Print a classification report\n",
    "print(metrics.classification_report(y_test,predictions))\n",
    "# Print the overall accuracy\n",
    "print(metrics.accuracy_score(y_test,predictions))"
   ]
  },
  {
   "cell_type": "code",
   "execution_count": 37,
   "id": "65439e1e",
   "metadata": {
    "colab": {
     "base_uri": "https://localhost:8080/"
    },
    "id": "65439e1e",
    "outputId": "2536c6f5-e8a3-4974-c347-b460d1551172"
   },
   "outputs": [
    {
     "data": {
      "text/plain": [
       "World            56804\n",
       "Entertainment    49744\n",
       "Sports           43607\n",
       "Top Stories      39217\n",
       "Business         37985\n",
       "Name: cat, dtype: int64"
      ]
     },
     "execution_count": 37,
     "metadata": {},
     "output_type": "execute_result"
    }
   ],
   "source": [
    "y_train.value_counts()"
   ]
  },
  {
   "cell_type": "code",
   "execution_count": null,
   "id": "cpK8jwQBhBMa",
   "metadata": {
    "id": "cpK8jwQBhBMa"
   },
   "outputs": [],
   "source": []
  },
  {
   "cell_type": "code",
   "execution_count": 66,
   "id": "56bee7a1",
   "metadata": {
    "id": "56bee7a1"
   },
   "outputs": [],
   "source": [
    "#remove all files \n",
    "import shutil\n",
    "#shutil.rmtree(\"data\")\n",
    "#os.remove('newsspace200.xml.bz')\n",
    "shutil.rmtree('data')"
   ]
  },
  {
   "cell_type": "code",
   "execution_count": null,
   "id": "d925f9d9",
   "metadata": {
    "id": "d925f9d9"
   },
   "outputs": [],
   "source": []
  }
 ],
 "metadata": {
  "accelerator": "GPU",
  "colab": {
   "collapsed_sections": [],
   "name": "get_data.ipynb",
   "provenance": []
  },
  "kernelspec": {
   "display_name": "Python 3",
   "language": "python",
   "name": "python3"
  },
  "language_info": {
   "codemirror_mode": {
    "name": "ipython",
    "version": 3
   },
   "file_extension": ".py",
   "mimetype": "text/x-python",
   "name": "python",
   "nbconvert_exporter": "python",
   "pygments_lexer": "ipython3",
   "version": "3.8.8"
  }
 },
 "nbformat": 4,
 "nbformat_minor": 5
}
